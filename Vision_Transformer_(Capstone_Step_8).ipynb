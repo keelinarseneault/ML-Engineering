{
  "cells": [
    {
      "cell_type": "markdown",
      "metadata": {
        "id": "view-in-github",
        "colab_type": "text"
      },
      "source": [
        "<a href=\"https://colab.research.google.com/github/keelinarseneault/ML-Engineering/blob/main/Vision_Transformer_(Capstone_Step_8).ipynb\" target=\"_parent\"><img src=\"https://colab.research.google.com/assets/colab-badge.svg\" alt=\"Open In Colab\"/></a>"
      ]
    },
    {
      "cell_type": "markdown",
      "metadata": {
        "id": "-u11fF6MTQfg"
      },
      "source": [
        "# **ViT (Vision Transformer)**"
      ]
    },
    {
      "cell_type": "code",
      "execution_count": null,
      "metadata": {
        "colab": {
          "background_save": true
        },
        "id": "zRKO-9NZTZFH"
      },
      "outputs": [],
      "source": [
        "import torch\n",
        "import torch.nn as nn\n",
        "import torch.optim as optim\n",
        "import torchvision.transforms as transforms\n",
        "from torchvision.transforms.v2 import GaussianNoise\n",
        "import torchvision.models as models\n",
        "from torch.utils.data import DataLoader, Dataset, random_split, Subset\n",
        "from sklearn.metrics import accuracy_score, f1_score, roc_auc_score\n",
        "from sklearn.model_selection import StratifiedKFold\n",
        "from torchmetrics.classification import BinaryAccuracy, BinaryF1Score, BinaryAUROC\n",
        "import pandas as pd\n",
        "from PIL import Image\n",
        "import numpy as np\n",
        "import matplotlib.pyplot as plt\n",
        "import os\n",
        "from tqdm import tqdm\n",
        "import torch.cuda.amp as amp\n",
        "from glob import glob\n",
        "from transformers import get_cosine_schedule_with_warmup\n",
        "from transformers import AutoImageProcessor, BeitForImageClassification, AutoModelForImageClassification, ResNetForImageClassification, ViTForImageClassification, ConvNextForImageClassification\n",
        "import shutil"
      ]
    },
    {
      "cell_type": "code",
      "execution_count": null,
      "metadata": {
        "id": "LmKeZVVBTcpy"
      },
      "outputs": [],
      "source": [
        "class CustomImageDataset(Dataset):\n",
        "    def __init__(self, csv_file, img_dir, transform=None):\n",
        "        self.annotations = csv_file\n",
        "        self.img_dir     = img_dir #glob(os.path.join(img_dir, \"*.jpg\"))\n",
        "        self.transform   = transform\n",
        "        assert len(self.img_dir) == len(self.img_dir)\n",
        "\n",
        "    def __len__(self):\n",
        "        return len(self.annotations)\n",
        "\n",
        "    def __getitem__(self, idx):\n",
        "        img_path = os.path.join(self.img_dir, self.annotations.iloc[idx, 0])\n",
        "        image    = Image.open(img_path).convert(\"RGB\")\n",
        "        label    = torch.tensor(int(self.annotations.iloc[idx, 1]))\n",
        "\n",
        "        if self.transform:\n",
        "            image = self.transform(image)\n",
        "\n",
        "        return image, label"
      ]
    },
    {
      "cell_type": "code",
      "execution_count": null,
      "metadata": {
        "id": "8MH6ibnpTgKp"
      },
      "outputs": [],
      "source": [
        "def create_dataloaders(csv_file, img_dir, img_size=(224, 224), batch_size=32, n_fold=0):\n",
        "    # Define transforms with basic augmentations\n",
        "    transform = transforms.Compose([\n",
        "        transforms.Resize(img_size),\n",
        "        transforms.ToTensor(),\n",
        "        transforms.RandomHorizontalFlip()\n",
        "    ])\n",
        "\n",
        "    # Initialize dataset\n",
        "    dataset = CustomImageDataset(csv_file=csv_file, img_dir=img_dir, transform=transform)\n",
        "\n",
        "    # Create train/validation split\n",
        "    skf = StratifiedKFold(n_splits=5, shuffle=True, random_state=2024)\n",
        "    for i, (train_index, val_index) in enumerate(skf.split(np.zeros(len(csv_file)), csv_file.iloc[:, 1].values)):\n",
        "        if i == n_fold:\n",
        "            break\n",
        "\n",
        "    train_dataset = Subset(dataset, train_index)\n",
        "    dataset = CustomImageDataset(csv_file=csv_file, img_dir=img_dir,\n",
        "                                 transform=transforms.Compose([transforms.Resize(img_size),\n",
        "                                                              transforms.ToTensor()]))\n",
        "    val_dataset = Subset(dataset, val_index)\n",
        "    print(len(train_dataset))\n",
        "    print(len(val_dataset))\n",
        "\n",
        "    # Create DataLoaders\n",
        "    train_loader = DataLoader(train_dataset, batch_size=batch_size, shuffle=True, num_workers=4, pin_memory=True)\n",
        "    val_loader = DataLoader(val_dataset, batch_size=batch_size, shuffle=False, num_workers=4, pin_memory=True)\n",
        "\n",
        "    return train_loader, val_loader"
      ]
    },
    {
      "cell_type": "code",
      "execution_count": null,
      "metadata": {
        "id": "hVJVvxvzTkyd"
      },
      "outputs": [],
      "source": [
        "def train_one_epoch(model, train_loader, criterion, optimizer, scheduler, device):\n",
        "    model.train()\n",
        "    running_loss = 0.0\n",
        "    for images, labels in tqdm(train_loader):\n",
        "        images, labels = images.to(device), labels.to(device).float().unsqueeze(1)\n",
        "\n",
        "        optimizer.zero_grad()\n",
        "\n",
        "        outputs = model(images).logits[:, :1]\n",
        "        loss = criterion(outputs, labels)\n",
        "\n",
        "        # Backward pass and optimization step\n",
        "        loss.backward()\n",
        "        optimizer.step()\n",
        "        scheduler.step()\n",
        "\n",
        "        running_loss += loss.item() * images.size(0)\n",
        "\n",
        "    epoch_loss = running_loss / len(train_loader.dataset)\n",
        "    return epoch_loss\n",
        "\n",
        "def validate(model, val_loader, criterion, device):\n",
        "    model.eval()\n",
        "    running_loss = 0.0\n",
        "    all_labels = []\n",
        "    all_outputs = []\n",
        "\n",
        "    with torch.no_grad():\n",
        "        for images, labels in tqdm(val_loader):\n",
        "            images, labels = images.to(device), labels.to(device).float().unsqueeze(1)\n",
        "\n",
        "            outputs = model(images).logits[:, :1]\n",
        "            loss = criterion(outputs, labels)\n",
        "\n",
        "            running_loss += loss.item() * images.size(0)\n",
        "            all_labels.append(labels.cpu().numpy())\n",
        "            all_outputs.append(outputs.cpu().numpy())\n",
        "\n",
        "    epoch_loss = running_loss / len(val_loader.dataset)\n",
        "\n",
        "    all_labels = np.concatenate(all_labels)\n",
        "    all_outputs = np.concatenate(all_outputs)\n",
        "    all_outputs = torch.sigmoid(torch.tensor(all_outputs)).numpy()  # Convert logits to probabilities\n",
        "\n",
        "    return epoch_loss, all_labels, all_outputs"
      ]
    },
    {
      "cell_type": "code",
      "execution_count": null,
      "metadata": {
        "id": "qJwkHr2jTnUq"
      },
      "outputs": [],
      "source": [
        "class EarlyStopping:\n",
        "    def __init__(self, patience=7, verbose=False, delta=0):\n",
        "        self.patience = patience\n",
        "        self.verbose = verbose\n",
        "        self.counter = 0\n",
        "        self.best_score = None\n",
        "        self.early_stop = False\n",
        "        self.val_loss_min = np.Inf\n",
        "        self.delta = delta\n",
        "\n",
        "    def __call__(self, val_loss, model, path):\n",
        "        score = -val_loss\n",
        "        if self.best_score is None:\n",
        "            self.best_score = score\n",
        "            self.save_checkpoint(val_loss, model, path)\n",
        "        elif score < self.best_score + self.delta:\n",
        "            self.counter += 1\n",
        "            print(f'EarlyStopping counter: {self.counter} out of {self.patience}')\n",
        "            if self.counter >= self.patience:\n",
        "                self.early_stop = True\n",
        "        else:\n",
        "            self.best_score = score\n",
        "            self.save_checkpoint(val_loss, model, path)\n",
        "            self.counter = 0\n",
        "\n",
        "    def save_checkpoint(self, val_loss, model, path):\n",
        "        if self.verbose:\n",
        "            print(f'Validation loss decreased ({self.val_loss_min:.6f} --> {val_loss:.6f}).  Saving model ...')\n",
        "        torch.save(model.state_dict(), path + '/' + 'checkpoint.pth')\n",
        "        self.val_loss_min = val_loss"
      ]
    },
    {
      "cell_type": "code",
      "execution_count": null,
      "metadata": {
        "id": "44eNFoQ6TqT5"
      },
      "outputs": [],
      "source": [
        "def train_model(csv_file, img_dir, model, model_name, img_size=(224, 224), num_epochs=10, batch_size=32, lr=1e-4, n_fold=0, device='cuda', patience=3, warmup_epochs=0):\n",
        "    train_loader, val_loader = create_dataloaders(csv_file, img_dir, img_size=img_size, batch_size=batch_size, n_fold=n_fold)\n",
        "    train_sets = len(train_loader)\n",
        "\n",
        "    model     = model.to(device)\n",
        "    criterion = nn.BCEWithLogitsLoss()\n",
        "    optimizer = optim.Adam(model.parameters(), lr=lr)\n",
        "    scheduler = get_cosine_schedule_with_warmup(optimizer, train_sets * warmup_epochs, train_sets * num_epochs)\n",
        "    early_stopping = EarlyStopping(patience=patience, verbose=True)\n",
        "\n",
        "    train_losses = []\n",
        "    val_losses   = []\n",
        "\n",
        "    path = model_name + str(n_fold)\n",
        "    os.makedirs(path, exist_ok=True)\n",
        "\n",
        "    for epoch in range(num_epochs):\n",
        "        print(f'Epoch {epoch+1}/{num_epochs}')\n",
        "        train_loss = train_one_epoch(model, train_loader, criterion, optimizer, scheduler, device)\n",
        "        val_loss, val_labels, val_outputs = validate(model, val_loader, criterion, device)\n",
        "\n",
        "        train_losses.append(train_loss)\n",
        "        val_losses.append(val_loss)\n",
        "\n",
        "        # Calculate metrics on validation set\n",
        "        val_preds = (val_outputs > 0.5).astype(int)\n",
        "        f1 = f1_score(val_labels, val_preds)\n",
        "        print(f'Train Loss: {train_loss:.4f}, Val Loss: {val_loss:.4f}, F1 Score: {f1:.4f}')\n",
        "        early_stopping(-f1, model, path)\n",
        "        if early_stopping.early_stop:\n",
        "            print(\"Early stopping\")\n",
        "            break\n",
        "        print('Updating learning rate to {}'.format(scheduler.get_last_lr()[0]))\n",
        "\n",
        "    # Plot Loss\n",
        "    plt.plot(train_losses, label='Train Loss')\n",
        "    plt.plot(val_losses, label='Validation Loss')\n",
        "    plt.legend()\n",
        "    plt.savefig('loss_plot.png')\n",
        "    plt.show()"
      ]
    },
    {
      "cell_type": "code",
      "execution_count": 60,
      "metadata": {
        "id": "22KfpnNbTtaM",
        "colab": {
          "base_uri": "https://localhost:8080/",
          "height": 1000
        },
        "outputId": "f67581ef-60f1-4624-f19a-0b8cc6249080"
      },
      "outputs": [
        {
          "metadata": {
            "tags": null
          },
          "name": "stderr",
          "output_type": "stream",
          "text": [
            "/usr/local/lib/python3.11/dist-packages/torch/utils/data/dataloader.py:624: UserWarning: This DataLoader will create 4 worker processes in total. Our suggested max number of worker in current system is 2, which is smaller than what this DataLoader is going to create. Please be aware that excessive worker creation might get DataLoader running slow or even freeze, lower the worker number to avoid potential slowness/freeze if necessary.\n",
            "  warnings.warn(\n"
          ]
        },
        {
          "metadata": {
            "tags": null
          },
          "name": "stdout",
          "output_type": "stream",
          "text": [
            "8832\n",
            "2208\n",
            "Epoch 1/10\n"
          ]
        },
        {
          "metadata": {
            "tags": null
          },
          "name": "stderr",
          "output_type": "stream",
          "text": [
            "100%|██████████| 138/138 [15:01<00:00,  6.53s/it]\n",
            "100%|██████████| 35/35 [03:49<00:00,  6.56s/it]\n"
          ]
        },
        {
          "metadata": {
            "tags": null
          },
          "name": "stdout",
          "output_type": "stream",
          "text": [
            "Train Loss: 0.2450, Val Loss: 0.0427, F1 Score: 0.9870\n",
            "Validation loss decreased (inf --> -0.987001).  Saving model ...\n",
            "Updating learning rate to 1.9510565162951538e-05\n",
            "Epoch 2/10\n"
          ]
        },
        {
          "metadata": {
            "tags": null
          },
          "name": "stderr",
          "output_type": "stream",
          "text": [
            "  0%|          | 0/138 [00:00<?, ?it/s]/usr/local/lib/python3.11/dist-packages/torch/utils/data/dataloader.py:624: UserWarning: This DataLoader will create 4 worker processes in total. Our suggested max number of worker in current system is 2, which is smaller than what this DataLoader is going to create. Please be aware that excessive worker creation might get DataLoader running slow or even freeze, lower the worker number to avoid potential slowness/freeze if necessary.\n",
            "  warnings.warn(\n",
            "100%|██████████| 138/138 [04:32<00:00,  1.98s/it]\n",
            "100%|██████████| 35/35 [00:26<00:00,  1.30it/s]\n"
          ]
        },
        {
          "metadata": {
            "tags": null
          },
          "name": "stdout",
          "output_type": "stream",
          "text": [
            "Train Loss: 0.0169, Val Loss: 0.0262, F1 Score: 0.9904\n",
            "Validation loss decreased (-0.987001 --> -0.990442).  Saving model ...\n",
            "Updating learning rate to 1.8090169943749477e-05\n",
            "Epoch 3/10\n"
          ]
        },
        {
          "output_type": "stream",
          "name": "stderr",
          "text": [
            "  0%|          | 0/138 [00:00<?, ?it/s]/usr/local/lib/python3.11/dist-packages/torch/utils/data/dataloader.py:624: UserWarning: This DataLoader will create 4 worker processes in total. Our suggested max number of worker in current system is 2, which is smaller than what this DataLoader is going to create. Please be aware that excessive worker creation might get DataLoader running slow or even freeze, lower the worker number to avoid potential slowness/freeze if necessary.\n",
            "  warnings.warn(\n",
            "100%|██████████| 138/138 [04:30<00:00,  1.96s/it]\n",
            "100%|██████████| 35/35 [00:26<00:00,  1.34it/s]\n"
          ]
        },
        {
          "output_type": "stream",
          "name": "stdout",
          "text": [
            "Train Loss: 0.0044, Val Loss: 0.0227, F1 Score: 0.9937\n",
            "Validation loss decreased (-0.990442 --> -0.993671).  Saving model ...\n",
            "Updating learning rate to 1.5877852522924733e-05\n",
            "Epoch 4/10\n"
          ]
        },
        {
          "output_type": "stream",
          "name": "stderr",
          "text": [
            "\r  0%|          | 0/138 [00:00<?, ?it/s]/usr/local/lib/python3.11/dist-packages/torch/utils/data/dataloader.py:624: UserWarning: This DataLoader will create 4 worker processes in total. Our suggested max number of worker in current system is 2, which is smaller than what this DataLoader is going to create. Please be aware that excessive worker creation might get DataLoader running slow or even freeze, lower the worker number to avoid potential slowness/freeze if necessary.\n",
            "  warnings.warn(\n",
            "100%|██████████| 138/138 [04:30<00:00,  1.96s/it]\n",
            "100%|██████████| 35/35 [00:25<00:00,  1.36it/s]\n"
          ]
        },
        {
          "output_type": "stream",
          "name": "stdout",
          "text": [
            "Train Loss: 0.0011, Val Loss: 0.0331, F1 Score: 0.9904\n",
            "EarlyStopping counter: 1 out of 3\n",
            "Updating learning rate to 1.3090169943749475e-05\n",
            "Epoch 5/10\n"
          ]
        },
        {
          "output_type": "stream",
          "name": "stderr",
          "text": [
            "\r  0%|          | 0/138 [00:00<?, ?it/s]/usr/local/lib/python3.11/dist-packages/torch/utils/data/dataloader.py:624: UserWarning: This DataLoader will create 4 worker processes in total. Our suggested max number of worker in current system is 2, which is smaller than what this DataLoader is going to create. Please be aware that excessive worker creation might get DataLoader running slow or even freeze, lower the worker number to avoid potential slowness/freeze if necessary.\n",
            "  warnings.warn(\n",
            "100%|██████████| 138/138 [04:31<00:00,  1.97s/it]\n",
            "100%|██████████| 35/35 [00:26<00:00,  1.34it/s]\n"
          ]
        },
        {
          "output_type": "stream",
          "name": "stdout",
          "text": [
            "Train Loss: 0.0004, Val Loss: 0.0201, F1 Score: 0.9936\n",
            "EarlyStopping counter: 2 out of 3\n",
            "Updating learning rate to 1e-05\n",
            "Epoch 6/10\n"
          ]
        },
        {
          "output_type": "stream",
          "name": "stderr",
          "text": [
            "\r  0%|          | 0/138 [00:00<?, ?it/s]/usr/local/lib/python3.11/dist-packages/torch/utils/data/dataloader.py:624: UserWarning: This DataLoader will create 4 worker processes in total. Our suggested max number of worker in current system is 2, which is smaller than what this DataLoader is going to create. Please be aware that excessive worker creation might get DataLoader running slow or even freeze, lower the worker number to avoid potential slowness/freeze if necessary.\n",
            "  warnings.warn(\n",
            "100%|██████████| 138/138 [04:31<00:00,  1.96s/it]\n",
            "100%|██████████| 35/35 [00:25<00:00,  1.35it/s]\n"
          ]
        },
        {
          "output_type": "stream",
          "name": "stdout",
          "text": [
            "Train Loss: 0.0003, Val Loss: 0.0210, F1 Score: 0.9946\n",
            "Validation loss decreased (-0.993671 --> -0.994555).  Saving model ...\n",
            "Updating learning rate to 6.909830056250527e-06\n",
            "Epoch 7/10\n"
          ]
        },
        {
          "output_type": "stream",
          "name": "stderr",
          "text": [
            "\r  0%|          | 0/138 [00:00<?, ?it/s]/usr/local/lib/python3.11/dist-packages/torch/utils/data/dataloader.py:624: UserWarning: This DataLoader will create 4 worker processes in total. Our suggested max number of worker in current system is 2, which is smaller than what this DataLoader is going to create. Please be aware that excessive worker creation might get DataLoader running slow or even freeze, lower the worker number to avoid potential slowness/freeze if necessary.\n",
            "  warnings.warn(\n",
            "100%|██████████| 138/138 [04:30<00:00,  1.96s/it]\n",
            "100%|██████████| 35/35 [00:25<00:00,  1.36it/s]\n"
          ]
        },
        {
          "output_type": "stream",
          "name": "stdout",
          "text": [
            "Train Loss: 0.0002, Val Loss: 0.0227, F1 Score: 0.9941\n",
            "EarlyStopping counter: 1 out of 3\n",
            "Updating learning rate to 4.12214747707527e-06\n",
            "Epoch 8/10\n"
          ]
        },
        {
          "output_type": "stream",
          "name": "stderr",
          "text": [
            "\r  0%|          | 0/138 [00:00<?, ?it/s]/usr/local/lib/python3.11/dist-packages/torch/utils/data/dataloader.py:624: UserWarning: This DataLoader will create 4 worker processes in total. Our suggested max number of worker in current system is 2, which is smaller than what this DataLoader is going to create. Please be aware that excessive worker creation might get DataLoader running slow or even freeze, lower the worker number to avoid potential slowness/freeze if necessary.\n",
            "  warnings.warn(\n",
            "100%|██████████| 138/138 [04:30<00:00,  1.96s/it]\n",
            "100%|██████████| 35/35 [00:26<00:00,  1.33it/s]\n"
          ]
        },
        {
          "output_type": "stream",
          "name": "stdout",
          "text": [
            "Train Loss: 0.0002, Val Loss: 0.0227, F1 Score: 0.9941\n",
            "EarlyStopping counter: 2 out of 3\n",
            "Updating learning rate to 1.9098300562505266e-06\n",
            "Epoch 9/10\n"
          ]
        },
        {
          "output_type": "stream",
          "name": "stderr",
          "text": [
            "\r  0%|          | 0/138 [00:00<?, ?it/s]/usr/local/lib/python3.11/dist-packages/torch/utils/data/dataloader.py:624: UserWarning: This DataLoader will create 4 worker processes in total. Our suggested max number of worker in current system is 2, which is smaller than what this DataLoader is going to create. Please be aware that excessive worker creation might get DataLoader running slow or even freeze, lower the worker number to avoid potential slowness/freeze if necessary.\n",
            "  warnings.warn(\n",
            "100%|██████████| 138/138 [04:30<00:00,  1.96s/it]\n",
            "100%|██████████| 35/35 [00:26<00:00,  1.33it/s]\n"
          ]
        },
        {
          "output_type": "stream",
          "name": "stdout",
          "text": [
            "Train Loss: 0.0002, Val Loss: 0.0224, F1 Score: 0.9941\n",
            "EarlyStopping counter: 3 out of 3\n",
            "Early stopping\n"
          ]
        },
        {
          "output_type": "display_data",
          "data": {
            "text/plain": [
              "<Figure size 640x480 with 1 Axes>"
            ],
            "image/png": "[encoded data removed]"
          },
          "metadata": {}
        }
      ],
      "source": [
        "labels = pd.read_csv('drive/MyDrive/train.csv')\n",
        "labels = labels.iloc[:, 1:].copy()\n",
        "img_dir = 'drive/MyDrive/Images/train_data/'\n",
        "model = ViTForImageClassification.from_pretrained('google/vit-base-patch16-224')\n",
        "batch_size = 64\n",
        "lr = 2e-5\n",
        "img_size = (224, 224)\n",
        "n_fold = 0\n",
        "train_model(labels, img_dir, model, 'google/vit-base-patch16-224', img_size=img_size, num_epochs=10,\n",
        "            batch_size=batch_size, lr=lr, n_fold=n_fold, patience=3, warmup_epochs=0)\n",
        "torch.cuda.empty_cache()"
      ]
    }
  ],
  "metadata": {
    "colab": {
      "provenance": [],
      "authorship_tag": "ABX9TyObxete+o6S0WXVnEP/6DU5",
      "include_colab_link": true
    },
    "kernelspec": {
      "display_name": "Python 3",
      "name": "python3"
    },
    "language_info": {
      "name": "python"
    }
  },
  "nbformat": 4,
  "nbformat_minor": 0
}